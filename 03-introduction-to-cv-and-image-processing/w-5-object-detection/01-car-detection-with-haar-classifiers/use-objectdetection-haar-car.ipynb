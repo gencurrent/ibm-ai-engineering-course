{
 "cells": [
  {
   "cell_type": "markdown",
   "metadata": {
    "button": false,
    "id": "balOTpEF22RR",
    "run_control": {
     "read_only": false
    }
   },
   "source": [
    "<img src=\"http://vision.skills.network/logo-light.png\" width=\"400\" alt=\"CV Studio logo\"  />\n"
   ]
  },
  {
   "cell_type": "markdown",
   "metadata": {
    "id": "9oYbdE6322RV"
   },
   "source": [
    "<h2>Car Detection with Haar Cascade Classifier</h2>\n",
    "<h3>Car detection with Haar Cascade Classifiers</h3>\n",
    "\n",
    "You will upload your car image to an already pre-trained Haar cascade classifiers and detect the car in the image.\n"
   ]
  },
  {
   "cell_type": "markdown",
   "metadata": {
    "id": "CFp68aEH22RW"
   },
   "source": [
    "# Objectives\n"
   ]
  },
  {
   "cell_type": "markdown",
   "metadata": {
    "id": "5e_Tp9-E22RX"
   },
   "source": [
    "Haar Cascade is a machine learning method based on Haar wavelet to identify objects in an image or a video. We will use the [OpenCV](http://opencv.org/) library and <a href=\"https://cloud.annotations.ai\">CVStudio</a></h2></h2>. It is based on the concept of features proposed by Paul Viola and Michael Jones in their paper \"Rapid Object Detection using a Boosted Cascade of Simple Features\" in 2001.\n",
    "<ul>\n",
    "     <li>This tool contains the following sections:\n",
    "        <ul>\n",
    "            <li>Load Images </li>\n",
    "            <li>Image preprocessing </li>\n",
    "            <li>Load pre-trained classifier </li>\n",
    "            <li>Identify a Car in an image </li>\n",
    "            <li>Upload your images for Car detection </li>\n",
    "            <li>What's Next </li>\n",
    "          </li>      \n",
    "        </ul>\n",
    "    </li>\n",
    "</ul>\n"
   ]
  },
  {
   "cell_type": "markdown",
   "metadata": {
    "id": "fE3btk_w22RY"
   },
   "source": [
    "# Import important libraries and Define auxilary functions\n"
   ]
  },
  {
   "cell_type": "code",
   "execution_count": null,
   "metadata": {
    "colab": {
     "base_uri": "https://localhost:8080/"
    },
    "id": "s_tdDKJ122RZ",
    "outputId": "6a8c9995-57bf-491c-c922-d13f95853de2",
    "tags": []
   },
   "outputs": [],
   "source": [
    "### install opencv version 3.4.2 for this exercise, \n",
    "### if you have a different version of OpenCV please switch to the 3.4.2 version\n",
    "# !{sys.executable} -m pip install opencv-python==3.4.2.16\n",
    "%pip install opencv-python\n",
    "\n",
    "import urllib.request\n",
    "import cv2\n",
    "print(cv2.__version__)\n",
    "from matplotlib import pyplot as plt\n",
    "%matplotlib inline"
   ]
  },
  {
   "cell_type": "markdown",
   "metadata": {
    "id": "1CIva33f22Rc"
   },
   "source": [
    "Create a function that cleans up and displays the image\n"
   ]
  },
  {
   "cell_type": "code",
   "execution_count": null,
   "metadata": {
    "id": "_xKVhKG222Rc",
    "tags": []
   },
   "outputs": [],
   "source": [
    "def plt_show(image, title=\"\", gray = False, size = (12,10)):\n",
    "    from pylab import rcParams\n",
    "    temp = image \n",
    "    \n",
    "    #convert to grayscale images\n",
    "    if gray == False:\n",
    "        temp = cv2.cvtColor(temp, cv2.COLOR_BGR2GRAY)\n",
    "    \n",
    "    #change image size\n",
    "    rcParams['figure.figsize'] = [10,10]\n",
    "    #remove axes ticks\n",
    "    plt.axis(\"off\")\n",
    "    plt.title(title)\n",
    "    plt.imshow(temp, cmap='gray')\n",
    "    plt.show()"
   ]
  },
  {
   "cell_type": "markdown",
   "metadata": {
    "id": "PMcXHJAt22Re"
   },
   "source": [
    "Create a function to detect cars in an image\n"
   ]
  },
  {
   "cell_type": "code",
   "execution_count": null,
   "metadata": {
    "id": "gtP68mA122Re",
    "tags": []
   },
   "outputs": [],
   "source": [
    "def detect_obj(image):\n",
    "    #clean your image\n",
    "    plt_show(image)\n",
    "    ## detect the car in the image\n",
    "    object_list = detector.detectMultiScale(image)\n",
    "    print(f\"The object list is\")\n",
    "    print(object_list)\n",
    "    #for each car, draw a rectangle around it\n",
    "    for obj in object_list: \n",
    "        (x, y, w, h) = obj\n",
    "        cv2.rectangle(image, (x, y), (x + w, y + h),(255, 0, 0), 2) #line thickness\n",
    "    ## lets view the image\n",
    "    plt_show(image)"
   ]
  },
  {
   "cell_type": "markdown",
   "metadata": {
    "id": "fSG3gea922Rf"
   },
   "source": [
    "# Load image\n"
   ]
  },
  {
   "cell_type": "markdown",
   "metadata": {
    "id": "4S51e71W22Rg"
   },
   "source": [
    "Load pre-trained classifier from [andrewssobral](https://raw.githubusercontent.com/andrewssobral/vehicle_detection_haarcascades/master/cars.xml) git repository, training takes a long time but prediction is fast.\n"
   ]
  },
  {
   "cell_type": "code",
   "execution_count": null,
   "metadata": {
    "colab": {
     "base_uri": "https://localhost:8080/"
    },
    "id": "WPWKnW6L22Rh",
    "outputId": "7ccbe9a4-c4b9-4dd6-84e3-5e985417a2d0",
    "tags": []
   },
   "outputs": [],
   "source": [
    "## read the url\n",
    "haarcascade_url = 'https://raw.githubusercontent.com/andrewssobral/vehicle_detection_haarcascades/master/cars.xml'\n",
    "haar_name = \"cars.xml\"\n",
    "urllib.request.urlretrieve(haarcascade_url, haar_name)"
   ]
  },
  {
   "cell_type": "markdown",
   "metadata": {
    "id": "4iQK4z3022Rh"
   },
   "source": [
    "Get the detector using the `cv2.CascadeClassifier()` module on the pretrained dataset\n"
   ]
  },
  {
   "cell_type": "code",
   "execution_count": null,
   "metadata": {
    "id": "_vTqpfJZ22Ri",
    "tags": []
   },
   "outputs": [],
   "source": [
    "detector = cv2.CascadeClassifier(haar_name)"
   ]
  },
  {
   "cell_type": "markdown",
   "metadata": {
    "id": "XUQZRjQi22Ri"
   },
   "source": [
    "Read in your image\n"
   ]
  },
  {
   "cell_type": "code",
   "execution_count": null,
   "metadata": {
    "id": "-a4h3OqT22Ri",
    "tags": []
   },
   "outputs": [],
   "source": [
    "## we will read in a sample image\n",
    "image_url = \"https://s3.us.cloud-object-storage.appdomain.cloud/cf-courses-data/CognitiveClass/CV0101/Dataset/car-road-behind.jpg\"\n",
    "image_name = \"car-road-behind.jpg\"\n",
    "urllib.request.urlretrieve(image_url, image_name)\n",
    "image = cv2.imread(image_name)"
   ]
  },
  {
   "cell_type": "markdown",
   "metadata": {
    "id": "XD4CTS0h22Rj"
   },
   "source": [
    "Plot the image\n"
   ]
  },
  {
   "cell_type": "code",
   "execution_count": null,
   "metadata": {
    "colab": {
     "base_uri": "https://localhost:8080/",
     "height": 444
    },
    "id": "SV4uP7TG22Rj",
    "outputId": "4f6fe4c7-749a-4885-dfda-2e3512781785",
    "tags": []
   },
   "outputs": [],
   "source": [
    "plt_show(image)"
   ]
  },
  {
   "cell_type": "markdown",
   "metadata": {
    "id": "Sr0UWVgX22Rk"
   },
   "source": [
    "Run the function on loaded image\n"
   ]
  },
  {
   "cell_type": "code",
   "execution_count": null,
   "metadata": {
    "colab": {
     "base_uri": "https://localhost:8080/",
     "height": 889
    },
    "id": "o9FLAw9n22Rk",
    "outputId": "39febb25-5187-4ea9-b021-c7a7b3907212",
    "tags": []
   },
   "outputs": [],
   "source": [
    "detect_obj(image)"
   ]
  },
  {
   "cell_type": "markdown",
   "metadata": {
    "id": "Fl2Zv1Bl22Rl"
   },
   "source": [
    "# Practice Exercise - Upload your image\n"
   ]
  },
  {
   "cell_type": "markdown",
   "metadata": {
    "id": "fY4az_6y22Rl"
   },
   "source": [
    "Upload your image and see if your car will be correctly detected.\n",
    "<p><b>Instructions on how to upload an image:</b></p>\n",
    "Use the upload button and upload the image from your local machine\n",
    "<center>\n",
    "    <img src=\"https://cf-courses-data.s3.us.cloud-object-storage.appdomain.cloud/IBMDeveloperSkillsNetwork-CV0101EN-SkillsNetwork/images/instruction.png\" width=\"300\"  />\n",
    "</center>\n"
   ]
  },
  {
   "cell_type": "markdown",
   "metadata": {
    "id": "oFGncvAR22Rm"
   },
   "source": [
    "The image will now be in the directory in which you are working in. To read the image in a new cell, use the <code>cv2.imread</code>  function. For example, I uploaded <code>anothercar.jpg</code>  into my current working directory - <code>cv2.imread(\"anothercar.jpg\")</code>.\n",
    "\n",
    "\n",
    "<center>\n",
    "    <img src=\"https://cf-courses-data.s3.us.cloud-object-storage.appdomain.cloud/IBMDeveloperSkillsNetwork-CV0101EN-SkillsNetwork/images/instruction2.png\" width=\"300\"  />\n",
    "</center>\n"
   ]
  },
  {
   "cell_type": "code",
   "execution_count": null,
   "metadata": {
    "id": "5zIkE65A22Rm"
   },
   "outputs": [],
   "source": [
    "## replace \"your_uploaded_file\" with your file name\n",
    "my_image = cv2.imread(\"360_F_123522471_XZe5ebqil1DFJRgOUJ6taDP4DnmHjtL7.jpg\")"
   ]
  },
  {
   "cell_type": "markdown",
   "metadata": {
    "id": "Tmior4Xe22Rn"
   },
   "source": [
    "Run the Cascade classifier on your model to detect the object. How did it do?\n"
   ]
  },
  {
   "cell_type": "code",
   "execution_count": null,
   "metadata": {
    "colab": {
     "base_uri": "https://localhost:8080/",
     "height": 323
    },
    "id": "FuubcBgC22Rn",
    "outputId": "64aaf524-ee2b-45b6-94f2-4fd0b2a69b8f"
   },
   "outputs": [],
   "source": [
    "detect_obj(my_image)"
   ]
  },
  {
   "cell_type": "markdown",
   "metadata": {
    "id": "22U7dYfr22Ro"
   },
   "source": [
    "# What's Next\n",
    "Haar Cascade Classifiers are fast and straightforward, you can use Convolutional Neural Networks (CNN) and get better performance on your Object detection.\n",
    "\n",
    "You can go back to the 👉🏾 <a href=\"https://vision.skills.network/\"> CV Studio</a> 👈🏾 tool anytime to view your saved projects\n"
   ]
  },
  {
   "cell_type": "markdown",
   "metadata": {
    "id": "n3vxrZc022Ro"
   },
   "source": [
    "# Okay, you are amazing!\n"
   ]
  },
  {
   "cell_type": "markdown",
   "metadata": {
    "id": "shSKFP6r22Rp"
   },
   "source": [
    "<a href=\"https://cognitiveclass.ai/\">\n",
    "    <img src=\"https://cf-courses-data.s3.us.cloud-object-storage.appdomain.cloud/IBMDeveloperSkillsNetwork-CV0101EN-SkillsNetwork/images/pixel-art-einstein-science-kombat-diego-sanches.gif\" width=\"300\" align=\"center\">\n",
    "</a>\n"
   ]
  },
  {
   "cell_type": "markdown",
   "metadata": {
    "id": "TXXsQNdo22Rp"
   },
   "source": [
    "<h2>Authors</h2>\n"
   ]
  },
  {
   "cell_type": "markdown",
   "metadata": {
    "id": "2OyUmU4X22Rp"
   },
   "source": [
    "<a href=\"https://www.linkedin.com/in/aije-egwaikhide/\">Aije Egwaikhide</a> is a Data Scientist at IBM who holds a degree in Economics and Statistics from the University of Manitoba and a Post-grad in Business Analytics from St. Lawrence College, Kingston. She is currently pursuing her Masters in Management Analytics at Queens University. She is part of the IBM Developer Skills Network group where she brings her real-world experience to the courses she creates.\n",
    "\n",
    "<p><a href=\"https://www.linkedin.com/in/nayefaboutayoun/\" target=\"_blank\">Nayef Abou Tayoun</a> is a Cognitive Data Scientist at IBM, and pursuing a Master's degree in Artificial intelligence </p>\n"
   ]
  },
  {
   "cell_type": "markdown",
   "metadata": {
    "id": "R_wjrGYL22Rq"
   },
   "source": [
    "<h2>Change Log</h2>\n"
   ]
  },
  {
   "cell_type": "markdown",
   "metadata": {
    "id": "i2py6tpq22Rq"
   },
   "source": [
    "<table>\n",
    "    <tr>\n",
    "        <th>Date (YYYY-MM-DD)</th>\n",
    "        <th>Version</th>\n",
    "        <th>Changed By</th>\n",
    "        <th>Change Description</th>\n",
    "    </tr>\n",
    "    <tr>\n",
    "        <td>2021-04-09</td>\n",
    "        <td>1.0</td>\n",
    "        <td>Aije</td>\n",
    "        <td>Updated to new template</td>\n",
    "    </tr>\n",
    "    <tr>\n",
    "        <td>2021-03-02</td>\n",
    "        <td>0.2</td>\n",
    "        <td>Aije</td>\n",
    "        <td>Updated code and instructions and added practice exercise</td>\n",
    "    </tr>\n",
    "    <tr>\n",
    "        <td>2020-08-18</td>\n",
    "        <td>0.1</td>\n",
    "        <td>Nayef</td>\n",
    "        <td>Created original version of the lab</td>\n",
    "    </tr>\n",
    "</table>\n"
   ]
  },
  {
   "cell_type": "markdown",
   "metadata": {
    "id": "23jPtZYz22Rr"
   },
   "source": [
    "Copyright © 2021 IBM Corporation. All rights reserved.\n"
   ]
  }
 ],
 "metadata": {
  "colab": {
   "collapsed_sections": [],
   "name": "use-objectdetection-haar-car.ipynb",
   "provenance": []
  },
  "kernelspec": {
   "display_name": "course-ibm-ai-engineering",
   "language": "python",
   "name": "python3"
  },
  "language_info": {
   "codemirror_mode": {
    "name": "ipython",
    "version": 3
   },
   "file_extension": ".py",
   "mimetype": "text/x-python",
   "name": "python",
   "nbconvert_exporter": "python",
   "pygments_lexer": "ipython3",
   "version": "3.11.5"
  }
 },
 "nbformat": 4,
 "nbformat_minor": 4
}

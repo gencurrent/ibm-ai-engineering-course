{
 "cells": [
  {
   "cell_type": "code",
   "execution_count": null,
   "metadata": {},
   "outputs": [],
   "source": [
    "\n",
    "import torch\n",
    "import numpy as np\n",
    "import pandas as pd"
   ]
  },
  {
   "cell_type": "code",
   "execution_count": null,
   "metadata": {},
   "outputs": [],
   "source": [
    "device = torch.device(\"cuda:0\" if torch.cuda.is_available() else \"cpu\")\n",
    "\n",
    "print(\"\"\"\n",
    "Regular Tensor\n",
    "\"\"\")\n",
    "a = torch.Tensor([7, 4, 3, 2, 6]).to_dense(dtype=torch.float16)\n",
    "print(a)\n",
    "print(a @ a)\n",
    "print(a.transpose(0, 0) * a)\n",
    "print(a[1])\n",
    "print(a[-1])\n",
    "print(a.dtype)\n",
    "\n",
    "# ## Some numpy practise\n",
    "# print()\n",
    "# print(\"Numpy\")\n",
    "# b = a.numpy()\n",
    "# print(b.reshape((-1, 1)) @ b.reshape((1, -1)))\n",
    "# stacked_a = np.vstack([b])\n",
    "# print(stacked_a.T @ stacked_a)\n",
    "\n",
    "print(\"\"\"\n",
    "FloatTensor\n",
    "\"\"\")\n",
    "a = torch.FloatTensor([7, 4, 3, 2, 6])\n",
    "print(\"The tensor\", a)\n",
    "print(\"Convert to the new type: \", a.type(torch.int32))\n",
    "print(\"the size is: \", a.size())\n",
    "print(\"Number of dimensions: \", a.ndimension())\n",
    "\n",
    "print(\"Reshaping: \", a.view(5, 1), sep=\"\\n\")\n",
    "print(\"Reshaping: \", a.view(-1, 1), sep=\"\\n\")\n"
   ]
  },
  {
   "cell_type": "code",
   "execution_count": null,
   "metadata": {},
   "outputs": [],
   "source": [
    "\n",
    "print(\"\"\"\n",
    "Numpy conversion\n",
    "\"\"\")\n",
    "# Convert to numpy and back\n",
    "n_arr = np.arange(0, 8, dtype=np.float64)\n",
    "t_arr = torch.from_numpy(n_arr)\n",
    "print(\"Tensor from numpy array\", t_arr)\n",
    "t_n_arr = t_arr.numpy()\n",
    "print(\"Numpy array from Tensor: \", t_n_arr)\n",
    "n_arr[0] = 99.\n",
    "assert t_n_arr[0] == 99.\n",
    "print(\"Numpy array from Tensor: \", t_n_arr)\n",
    "\n",
    "print(\"Type of element in the Torch Tensor is \", type(t_arr[0]), t_arr[0], sep=\" || \")\n",
    "print(\"Value of element in the Torch Tensor is \", t_arr[0].item())\n",
    "\n"
   ]
  },
  {
   "cell_type": "code",
   "execution_count": null,
   "metadata": {},
   "outputs": [],
   "source": [
    "## Basic operations\n",
    "\n",
    "u = torch.Tensor([0, 1]).double()\n",
    "v = torch.Tensor([1, 0.]).double()\n",
    "print(\"+\", u + v)\n",
    "print(\"x 2\", u * 2)\n",
    "print(\"Product of two tensors\", u @ v)"
   ]
  },
  {
   "cell_type": "code",
   "execution_count": null,
   "metadata": {},
   "outputs": [],
   "source": [
    "## Functions\n",
    "\n",
    "a = torch.Tensor(range(8))\n",
    "print(a.mean())\n",
    "x = torch.tensor([0, np.pi / 2, np.pi])\n",
    "print(x)\n",
    "y = torch.sin(x)\n",
    "print(y)\n",
    "\n",
    "print(torch.linspace(-2, 2, 9))"
   ]
  },
  {
   "cell_type": "code",
   "execution_count": null,
   "metadata": {},
   "outputs": [],
   "source": [
    "## plot\n",
    "import matplotlib.pyplot as plt\n",
    "\n",
    "x = torch.linspace(0, np.pi * 2, 100)\n",
    "y = torch.sin(x)\n",
    "plt.plot(x, y)"
   ]
  }
 ],
 "metadata": {
  "kernelspec": {
   "display_name": "course-ibm-ai-engineering",
   "language": "python",
   "name": "python3"
  },
  "language_info": {
   "codemirror_mode": {
    "name": "ipython",
    "version": 3
   },
   "file_extension": ".py",
   "mimetype": "text/x-python",
   "name": "python",
   "nbconvert_exporter": "python",
   "pygments_lexer": "ipython3",
   "version": "3.11.5"
  }
 },
 "nbformat": 4,
 "nbformat_minor": 2
}

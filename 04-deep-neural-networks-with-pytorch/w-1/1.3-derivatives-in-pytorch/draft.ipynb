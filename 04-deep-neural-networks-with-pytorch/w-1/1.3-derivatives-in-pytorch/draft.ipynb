{
 "cells": [
  {
   "cell_type": "code",
   "execution_count": null,
   "metadata": {},
   "outputs": [],
   "source": [
    "\"\"\"\n",
    "\"\"\""
   ]
  },
  {
   "cell_type": "code",
   "execution_count": null,
   "metadata": {},
   "outputs": [],
   "source": [
    "import torch\n",
    "import numpy as np\n"
   ]
  },
  {
   "cell_type": "code",
   "execution_count": null,
   "metadata": {},
   "outputs": [],
   "source": [
    "# requires_grad tells to use derivatives of x in the future\n",
    "x = torch.tensor(2, requires_grad=True, dtype=torch.float32)\n",
    "print(x)\n",
    "y = x ** 2\n",
    "print(y)\n",
    "print(y.backward())\n",
    "print(x.grad)\n",
    "\n",
    "\n",
    "x = torch.tensor(3, requires_grad=True, dtype=torch.float32)\n",
    "print(x)\n",
    "y = x ** 2 + 2 * x + 1\n",
    "print(y)\n",
    "assert x.grad is None\n",
    "y.backward()\n",
    "assert x.grad == 8\n",
    "assert x.grad == 2 * 3 + 2\n",
    "print(x.grad)\n"
   ]
  },
  {
   "cell_type": "markdown",
   "metadata": {},
   "source": [
    "<h1>The structure of a Tensor</h1>\n",
    "<img src=\"requires-grad-structure.png\" width=800/>\n",
    "\n",
    "\n",
    "\n"
   ]
  },
  {
   "cell_type": "markdown",
   "metadata": {},
   "source": [
    "$$\n",
    "\n",
    "\\begin{gather*}\n",
    "f(u,v) = uv + u^2\n",
    "\\\\\n",
    "\\frac{df(u, v)}{du} = v + 2u\n",
    "\\\\\n",
    "\\frac{df(u, v)}{dv} = u\n",
    "\\end{gather*}\n",
    "\n",
    "$$"
   ]
  },
  {
   "cell_type": "code",
   "execution_count": null,
   "metadata": {},
   "outputs": [],
   "source": [
    "# Partial derivatives\n",
    "u = torch.tensor(1., requires_grad=True)\n",
    "v = torch.tensor(2., requires_grad=True)\n",
    "\n",
    "# f(u=1, v=2) = uv + v**2\n",
    "f = u * v + u ** 2\n",
    "\n",
    "f.backward()\n",
    "print(u.grad)\n",
    "assert u.grad == v.item() + 2 * u.item()\n",
    "print(v.grad)\n",
    "assert v.grad == u.item()\n",
    "\n"
   ]
  }
 ],
 "metadata": {
  "kernelspec": {
   "display_name": "course-ibm-ai-engineering",
   "language": "python",
   "name": "python3"
  },
  "language_info": {
   "codemirror_mode": {
    "name": "ipython",
    "version": 3
   },
   "file_extension": ".py",
   "mimetype": "text/x-python",
   "name": "python",
   "nbconvert_exporter": "python",
   "pygments_lexer": "ipython3",
   "version": "3.11.5"
  }
 },
 "nbformat": 4,
 "nbformat_minor": 2
}

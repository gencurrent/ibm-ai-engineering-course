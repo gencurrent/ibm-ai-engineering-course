{
 "cells": [
  {
   "cell_type": "markdown",
   "metadata": {},
   "source": [
    "2D tensors\n",
    "\n"
   ]
  },
  {
   "cell_type": "code",
   "execution_count": null,
   "metadata": {},
   "outputs": [],
   "source": [
    "import torch\n",
    "import numpy as np\n",
    "import pandas as pd\n",
    "from matplotlib import pyplot as plt"
   ]
  },
  {
   "cell_type": "code",
   "execution_count": null,
   "metadata": {},
   "outputs": [],
   "source": [
    "t = torch.tensor([[3, 2], [3, 2], [3, 2]])\n",
    "assert t.shape == (3, 2)\n",
    "\n",
    "x = torch.tensor([[1, 2], [3, 4]])\n",
    "y = torch.tensor([[4, 5], [6, 7]])\n",
    "z = x + y\n",
    "print(z)\n",
    "z = x * y\n",
    "print(z)\n",
    "z = x @ y\n",
    "print(z)\n",
    "\n",
    "print(\"Tensor matrix multiplication\")\n",
    "x = torch.tensor([[0, 1, 1], [1, 0, 1]])\n",
    "y = torch.tensor([[1, 1], [1, 1], [-1, 1]])\n",
    "z = torch.mm(x, y)\n",
    "assert z.equal(x @ y) is True\n",
    "print(z)"
   ]
  }
 ],
 "metadata": {
  "kernelspec": {
   "display_name": "course-ibm-ai-engineering",
   "language": "python",
   "name": "python3"
  },
  "language_info": {
   "codemirror_mode": {
    "name": "ipython",
    "version": 3
   },
   "file_extension": ".py",
   "mimetype": "text/x-python",
   "name": "python",
   "nbconvert_exporter": "python",
   "pygments_lexer": "ipython3",
   "version": "3.11.5"
  }
 },
 "nbformat": 4,
 "nbformat_minor": 2
}
